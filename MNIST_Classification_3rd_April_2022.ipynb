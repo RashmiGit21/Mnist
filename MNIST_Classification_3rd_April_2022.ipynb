{
  "cells": [
    {
      "cell_type": "code",
      "execution_count": null,
      "id": "02bd972c",
      "metadata": {
        "id": "02bd972c"
      },
      "outputs": [],
      "source": [
        "from keras.datasets import mnist\n",
        "import matplotlib.pyplot as plt\n",
        "from keras.utils import to_categorical"
      ]
    },
    {
      "cell_type": "code",
      "execution_count": null,
      "id": "6f980c35",
      "metadata": {
        "colab": {
          "base_uri": "https://localhost:8080/"
        },
        "id": "6f980c35",
        "outputId": "6763d92e-5be4-4ccb-bf84-1f2c7a51dd02"
      },
      "outputs": [
        {
          "output_type": "stream",
          "name": "stdout",
          "text": [
            "Downloading data from https://storage.googleapis.com/tensorflow/tf-keras-datasets/mnist.npz\n",
            "11490434/11490434 [==============================] - 0s 0us/step\n"
          ]
        }
      ],
      "source": [
        "(x_train, y_train), (x_test, y_test) = mnist.load_data()"
      ]
    },
    {
      "cell_type": "code",
      "execution_count": null,
      "id": "090681e5",
      "metadata": {
        "colab": {
          "base_uri": "https://localhost:8080/"
        },
        "id": "090681e5",
        "outputId": "5221a10c-e0a7-4fd0-fac5-79e152b1658b"
      },
      "outputs": [
        {
          "output_type": "execute_result",
          "data": {
            "text/plain": [
              "(60000, 28, 28)"
            ]
          },
          "metadata": {},
          "execution_count": 3
        }
      ],
      "source": [
        "x_train.shape"
      ]
    },
    {
      "cell_type": "code",
      "execution_count": null,
      "id": "27a9825e",
      "metadata": {
        "colab": {
          "base_uri": "https://localhost:8080/",
          "height": 173
        },
        "id": "27a9825e",
        "outputId": "793dd751-1dbd-4226-9a5b-3bf70bb6d6ce"
      },
      "outputs": [
        {
          "output_type": "display_data",
          "data": {
            "text/plain": [
              "<Figure size 144x144 with 1 Axes>"
            ],
            "image/png": "[encoded data removed]"
          },
          "metadata": {
            "needs_background": "light"
          }
        }
      ],
      "source": [
        "img_id = 0\n",
        "plt.figure(figsize=(2,2))\n",
        "plt.imshow(x_train[img_id], cmap='gray')\n",
        "plt.title(f\"Actual Label : {y_train[img_id]}\")\n",
        "plt.show()"
      ]
    },
    {
      "cell_type": "code",
      "source": [
        "x_train.shape"
      ],
      "metadata": {
        "colab": {
          "base_uri": "https://localhost:8080/"
        },
        "id": "ClksZ3Ne91hr",
        "outputId": "9fca296f-efe7-4da8-a927-1fa11e8bfda1"
      },
      "id": "ClksZ3Ne91hr",
      "execution_count": null,
      "outputs": [
        {
          "output_type": "execute_result",
          "data": {
            "text/plain": [
              "(60000, 784)"
            ]
          },
          "metadata": {},
          "execution_count": 22
        }
      ]
    },
    {
      "cell_type": "code",
      "source": [
        "x_train"
      ],
      "metadata": {
        "colab": {
          "base_uri": "https://localhost:8080/"
        },
        "id": "LiB2x8SiFwvw",
        "outputId": "74346b32-9a2e-40ec-8ef2-8e9e185c3891"
      },
      "id": "LiB2x8SiFwvw",
      "execution_count": null,
      "outputs": [
        {
          "output_type": "execute_result",
          "data": {
            "text/plain": [
              "array([[0, 0, 0, ..., 0, 0, 0],\n",
              "       [0, 0, 0, ..., 0, 0, 0],\n",
              "       [0, 0, 0, ..., 0, 0, 0],\n",
              "       ...,\n",
              "       [0, 0, 0, ..., 0, 0, 0],\n",
              "       [0, 0, 0, ..., 0, 0, 0],\n",
              "       [0, 0, 0, ..., 0, 0, 0]], dtype=uint8)"
            ]
          },
          "metadata": {},
          "execution_count": 24
        }
      ]
    },
    {
      "cell_type": "code",
      "source": [
        "x_test"
      ],
      "metadata": {
        "colab": {
          "base_uri": "https://localhost:8080/"
        },
        "id": "oZwk-vm2FxOV",
        "outputId": "d12002f9-7259-4ea7-c719-9da74bb22b59"
      },
      "id": "oZwk-vm2FxOV",
      "execution_count": null,
      "outputs": [
        {
          "output_type": "execute_result",
          "data": {
            "text/plain": [
              "array([[0, 0, 0, ..., 0, 0, 0],\n",
              "       [0, 0, 0, ..., 0, 0, 0],\n",
              "       [0, 0, 0, ..., 0, 0, 0],\n",
              "       ...,\n",
              "       [0, 0, 0, ..., 0, 0, 0],\n",
              "       [0, 0, 0, ..., 0, 0, 0],\n",
              "       [0, 0, 0, ..., 0, 0, 0]], dtype=uint8)"
            ]
          },
          "metadata": {},
          "execution_count": 25
        }
      ]
    },
    {
      "cell_type": "code",
      "source": [
        "y_train"
      ],
      "metadata": {
        "colab": {
          "base_uri": "https://localhost:8080/"
        },
        "id": "vRX9KWVzFxlI",
        "outputId": "b307bde0-65b3-4637-8d41-a4d4a939e1ab"
      },
      "id": "vRX9KWVzFxlI",
      "execution_count": null,
      "outputs": [
        {
          "output_type": "execute_result",
          "data": {
            "text/plain": [
              "array([5, 0, 4, ..., 5, 6, 8], dtype=uint8)"
            ]
          },
          "metadata": {},
          "execution_count": 26
        }
      ]
    },
    {
      "cell_type": "code",
      "source": [
        "y_test"
      ],
      "metadata": {
        "colab": {
          "base_uri": "https://localhost:8080/"
        },
        "id": "_yQabNh7F1vS",
        "outputId": "1ac931e5-d799-4830-eb41-7f43696c0dfb"
      },
      "id": "_yQabNh7F1vS",
      "execution_count": null,
      "outputs": [
        {
          "output_type": "execute_result",
          "data": {
            "text/plain": [
              "array([7, 2, 1, ..., 4, 5, 6], dtype=uint8)"
            ]
          },
          "metadata": {},
          "execution_count": 27
        }
      ]
    },
    {
      "cell_type": "code",
      "execution_count": null,
      "id": "c0c3ac25",
      "metadata": {
        "id": "c0c3ac25"
      },
      "outputs": [],
      "source": [
        "# Converting the dataset (60000, 28, 28) into a flattend array of size (60000,784) \n",
        "\n",
        "x_train = x_train.reshape((60000, 28*28))\n",
        "x_test = x_test.reshape((10000, 28*28))"
      ]
    },
    {
      "cell_type": "code",
      "execution_count": null,
      "id": "25b234dd",
      "metadata": {
        "colab": {
          "base_uri": "https://localhost:8080/"
        },
        "id": "25b234dd",
        "outputId": "cdf72acb-1869-44b3-f78c-06f19eba2687"
      },
      "outputs": [
        {
          "output_type": "execute_result",
          "data": {
            "text/plain": [
              "(60000, 784)"
            ]
          },
          "metadata": {},
          "execution_count": 6
        }
      ],
      "source": [
        "x_train.shape"
      ]
    },
    {
      "cell_type": "code",
      "execution_count": null,
      "id": "251b13f2",
      "metadata": {
        "scrolled": true,
        "colab": {
          "base_uri": "https://localhost:8080/"
        },
        "id": "251b13f2",
        "outputId": "2d9eb23a-fad3-42a5-ccd5-1024dd505d64"
      },
      "outputs": [
        {
          "output_type": "execute_result",
          "data": {
            "text/plain": [
              "(10000, 784)"
            ]
          },
          "metadata": {},
          "execution_count": 7
        }
      ],
      "source": [
        "x_test.shape"
      ]
    },
    {
      "cell_type": "code",
      "execution_count": null,
      "id": "30bf4231",
      "metadata": {
        "id": "30bf4231"
      },
      "outputs": [],
      "source": [
        "# One hot encoding Target variables\n",
        "y_train_ohe = to_categorical(y_train)\n",
        "y_test_ohe = to_categorical(y_test)"
      ]
    },
    {
      "cell_type": "markdown",
      "id": "4471ecb6",
      "metadata": {
        "id": "4471ecb6"
      },
      "source": [
        "### Build Neural Network"
      ]
    },
    {
      "cell_type": "code",
      "execution_count": null,
      "id": "4ed803e5",
      "metadata": {
        "id": "4ed803e5"
      },
      "outputs": [],
      "source": [
        "from keras.models import Sequential \n",
        "from keras.layers import Dense"
      ]
    },
    {
      "cell_type": "code",
      "execution_count": null,
      "id": "ecfea0dd",
      "metadata": {
        "id": "ecfea0dd"
      },
      "outputs": [],
      "source": [
        "model = Sequential()\n",
        "model.add(Dense(392, input_dim = 784))\n",
        "model.add(Dense(196, activation='relu'))\n",
        "model.add(Dense(10, activation='softmax')) # Because multilclass classification problem"
      ]
    },
    {
      "cell_type": "code",
      "execution_count": null,
      "id": "140af860",
      "metadata": {
        "id": "140af860"
      },
      "outputs": [],
      "source": [
        "model.compile(optimizer='adagrad',\n",
        "             loss='categorical_crossentropy',\n",
        "             metrics = ['accuracy'])"
      ]
    },
    {
      "cell_type": "code",
      "execution_count": null,
      "id": "f695b5cc",
      "metadata": {
        "scrolled": true,
        "colab": {
          "base_uri": "https://localhost:8080/"
        },
        "id": "f695b5cc",
        "outputId": "f9a692e1-ff9d-4741-d4f9-2297d5d8bfa9"
      },
      "outputs": [
        {
          "output_type": "stream",
          "name": "stdout",
          "text": [
            "Epoch 1/30\n",
            "30/30 [==============================] - 4s 95ms/step - loss: 23.4905 - accuracy: 0.6800 - val_loss: 6.8216 - val_accuracy: 0.8215\n",
            "Epoch 2/30\n",
            "30/30 [==============================] - 2s 81ms/step - loss: 6.2158 - accuracy: 0.8384 - val_loss: 4.9161 - val_accuracy: 0.8616\n",
            "Epoch 3/30\n",
            "30/30 [==============================] - 3s 90ms/step - loss: 4.7073 - accuracy: 0.8671 - val_loss: 4.1063 - val_accuracy: 0.8795\n",
            "Epoch 4/30\n",
            "30/30 [==============================] - 4s 145ms/step - loss: 3.9095 - accuracy: 0.8837 - val_loss: 3.6234 - val_accuracy: 0.8878\n",
            "Epoch 5/30\n",
            "30/30 [==============================] - 5s 156ms/step - loss: 3.3985 - accuracy: 0.8931 - val_loss: 3.3005 - val_accuracy: 0.8960\n",
            "Epoch 6/30\n",
            "30/30 [==============================] - 4s 147ms/step - loss: 3.0304 - accuracy: 0.9012 - val_loss: 3.0703 - val_accuracy: 0.9011\n",
            "Epoch 7/30\n",
            "30/30 [==============================] - 4s 145ms/step - loss: 2.7503 - accuracy: 0.9067 - val_loss: 2.8704 - val_accuracy: 0.9075\n",
            "Epoch 8/30\n",
            "30/30 [==============================] - 4s 118ms/step - loss: 2.5181 - accuracy: 0.9125 - val_loss: 2.7341 - val_accuracy: 0.9107\n",
            "Epoch 9/30\n",
            "30/30 [==============================] - 2s 80ms/step - loss: 2.3354 - accuracy: 0.9161 - val_loss: 2.6297 - val_accuracy: 0.9120\n",
            "Epoch 10/30\n",
            "30/30 [==============================] - 2s 80ms/step - loss: 2.1728 - accuracy: 0.9206 - val_loss: 2.5153 - val_accuracy: 0.9134\n",
            "Epoch 11/30\n",
            "30/30 [==============================] - 2s 80ms/step - loss: 2.0376 - accuracy: 0.9239 - val_loss: 2.4322 - val_accuracy: 0.9158\n",
            "Epoch 12/30\n",
            "30/30 [==============================] - 2s 81ms/step - loss: 1.9209 - accuracy: 0.9266 - val_loss: 2.3723 - val_accuracy: 0.9187\n",
            "Epoch 13/30\n",
            "30/30 [==============================] - 2s 80ms/step - loss: 1.8129 - accuracy: 0.9288 - val_loss: 2.2999 - val_accuracy: 0.9195\n",
            "Epoch 14/30\n",
            "30/30 [==============================] - 2s 80ms/step - loss: 1.7214 - accuracy: 0.9311 - val_loss: 2.2529 - val_accuracy: 0.9203\n",
            "Epoch 15/30\n",
            "30/30 [==============================] - 2s 80ms/step - loss: 1.6325 - accuracy: 0.9341 - val_loss: 2.2025 - val_accuracy: 0.9221\n",
            "Epoch 16/30\n",
            "30/30 [==============================] - 2s 81ms/step - loss: 1.5587 - accuracy: 0.9355 - val_loss: 2.1614 - val_accuracy: 0.9226\n",
            "Epoch 17/30\n",
            "30/30 [==============================] - 2s 80ms/step - loss: 1.4862 - accuracy: 0.9374 - val_loss: 2.1221 - val_accuracy: 0.9230\n",
            "Epoch 18/30\n",
            "30/30 [==============================] - 2s 81ms/step - loss: 1.4199 - accuracy: 0.9400 - val_loss: 2.0926 - val_accuracy: 0.9243\n",
            "Epoch 19/30\n",
            "30/30 [==============================] - 2s 79ms/step - loss: 1.3579 - accuracy: 0.9412 - val_loss: 2.0753 - val_accuracy: 0.9248\n",
            "Epoch 20/30\n",
            "30/30 [==============================] - 2s 80ms/step - loss: 1.3093 - accuracy: 0.9425 - val_loss: 2.0095 - val_accuracy: 0.9261\n",
            "Epoch 21/30\n",
            "30/30 [==============================] - 2s 80ms/step - loss: 1.2543 - accuracy: 0.9439 - val_loss: 1.9968 - val_accuracy: 0.9269\n",
            "Epoch 22/30\n",
            "30/30 [==============================] - 2s 79ms/step - loss: 1.2078 - accuracy: 0.9446 - val_loss: 1.9723 - val_accuracy: 0.9284\n",
            "Epoch 23/30\n",
            "30/30 [==============================] - 2s 80ms/step - loss: 1.1599 - accuracy: 0.9465 - val_loss: 1.9545 - val_accuracy: 0.9280\n",
            "Epoch 24/30\n",
            "30/30 [==============================] - 2s 80ms/step - loss: 1.1183 - accuracy: 0.9482 - val_loss: 1.9233 - val_accuracy: 0.9290\n",
            "Epoch 25/30\n",
            "30/30 [==============================] - 2s 81ms/step - loss: 1.0793 - accuracy: 0.9494 - val_loss: 1.9075 - val_accuracy: 0.9291\n",
            "Epoch 26/30\n",
            "30/30 [==============================] - 2s 80ms/step - loss: 1.0432 - accuracy: 0.9498 - val_loss: 1.8771 - val_accuracy: 0.9301\n",
            "Epoch 27/30\n",
            "30/30 [==============================] - 2s 80ms/step - loss: 1.0041 - accuracy: 0.9517 - val_loss: 1.8693 - val_accuracy: 0.9298\n",
            "Epoch 28/30\n",
            "30/30 [==============================] - 2s 80ms/step - loss: 0.9730 - accuracy: 0.9521 - val_loss: 1.8397 - val_accuracy: 0.9310\n",
            "Epoch 29/30\n",
            "30/30 [==============================] - 4s 118ms/step - loss: 0.9404 - accuracy: 0.9536 - val_loss: 1.8380 - val_accuracy: 0.9302\n",
            "Epoch 30/30\n",
            "30/30 [==============================] - 3s 90ms/step - loss: 0.9116 - accuracy: 0.9542 - val_loss: 1.8288 - val_accuracy: 0.9298\n"
          ]
        },
        {
          "output_type": "execute_result",
          "data": {
            "text/plain": [
              "<keras.callbacks.History at 0x7f376865b250>"
            ]
          },
          "metadata": {},
          "execution_count": 12
        }
      ],
      "source": [
        "model.fit(x=x_train,\n",
        "         y=y_train_ohe,\n",
        "         batch_size=2000,\n",
        "         epochs=30,\n",
        "         validation_data=(x_test,y_test_ohe))"
      ]
    },
    {
      "cell_type": "code",
      "execution_count": null,
      "id": "89dffa80",
      "metadata": {
        "scrolled": false,
        "colab": {
          "base_uri": "https://localhost:8080/",
          "height": 295
        },
        "id": "89dffa80",
        "outputId": "ab5e7f39-d4ab-45ec-c6ac-59177bda1be3"
      },
      "outputs": [
        {
          "output_type": "display_data",
          "data": {
            "text/plain": [
              "<Figure size 432x288 with 1 Axes>"
            ],
            "image/png": "[encoded data removed]"
          },
          "metadata": {
            "needs_background": "light"
          }
        }
      ],
      "source": [
        "plt.plot(model.history.history['val_accuracy'])\n",
        "plt.plot(model.history.history['accuracy'])\n",
        "plt.legend(['VAL-ACC', 'TRAIN-ACC'])\n",
        "plt.title(\"Accuracy Measure\")\n",
        "plt.xlabel(\"EPOCH #\")\n",
        "plt.ylabel(\"Accuracy\")\n",
        "# plt.xticks(ticks = range(0,30), labels = range(1,31))\n",
        "plt.grid()\n",
        "plt.show()"
      ]
    },
    {
      "cell_type": "code",
      "execution_count": null,
      "id": "1ec082b4",
      "metadata": {
        "colab": {
          "base_uri": "https://localhost:8080/",
          "height": 295
        },
        "id": "1ec082b4",
        "outputId": "0f8e456a-b473-4899-fce4-6f2663d66c1f"
      },
      "outputs": [
        {
          "output_type": "display_data",
          "data": {
            "text/plain": [
              "<Figure size 432x288 with 1 Axes>"
            ],
            "image/png": "[encoded data removed]"
          },
          "metadata": {
            "needs_background": "light"
          }
        }
      ],
      "source": [
        "plt.plot(model.history.history['val_loss'])\n",
        "plt.plot(model.history.history['loss'])\n",
        "plt.legend(['VAL-LOSS', 'TRAIN-LOSS'])\n",
        "plt.title(\"LOSS\")\n",
        "plt.xlabel(\"EPOCH #\")\n",
        "plt.ylabel(\"Loss\")\n",
        "plt.grid()\n",
        "plt.show()"
      ]
    },
    {
      "cell_type": "markdown",
      "id": "2a3d59b7",
      "metadata": {
        "id": "2a3d59b7"
      },
      "source": [
        "#### Predictions"
      ]
    },
    {
      "cell_type": "code",
      "execution_count": null,
      "id": "9a9a6248",
      "metadata": {
        "id": "9a9a6248"
      },
      "outputs": [],
      "source": [
        "import numpy as np"
      ]
    },
    {
      "cell_type": "code",
      "execution_count": null,
      "id": "34ca0301",
      "metadata": {
        "colab": {
          "base_uri": "https://localhost:8080/"
        },
        "id": "34ca0301",
        "outputId": "e17dfafe-e809-4427-f4b1-8bb90bad8b61"
      },
      "outputs": [
        {
          "output_type": "execute_result",
          "data": {
            "text/plain": [
              "(1, 784)"
            ]
          },
          "metadata": {},
          "execution_count": 16
        }
      ],
      "source": [
        "x_test[500].reshape(-1,784).shape"
      ]
    },
    {
      "cell_type": "code",
      "execution_count": null,
      "id": "825ac213",
      "metadata": {
        "colab": {
          "base_uri": "https://localhost:8080/"
        },
        "id": "825ac213",
        "outputId": "65e7bd5a-5a32-4306-e109-65818e69822e"
      },
      "outputs": [
        {
          "output_type": "stream",
          "name": "stdout",
          "text": [
            "1/1 [==============================] - 0s 85ms/step\n"
          ]
        }
      ],
      "source": [
        "pred = model.predict(x_test[500].reshape(-1,784))"
      ]
    },
    {
      "cell_type": "code",
      "execution_count": null,
      "id": "ae3a67f3",
      "metadata": {
        "colab": {
          "base_uri": "https://localhost:8080/"
        },
        "id": "ae3a67f3",
        "outputId": "2a51735d-b8f2-40ca-d787-e11f7e1f69a6"
      },
      "outputs": [
        {
          "output_type": "execute_result",
          "data": {
            "text/plain": [
              "array([[0., 0., 0., 1., 0., 0., 0., 0., 0., 0.]], dtype=float32)"
            ]
          },
          "metadata": {},
          "execution_count": 18
        }
      ],
      "source": [
        "pred"
      ]
    },
    {
      "cell_type": "code",
      "execution_count": null,
      "id": "ac9c199b",
      "metadata": {
        "colab": {
          "base_uri": "https://localhost:8080/"
        },
        "id": "ac9c199b",
        "outputId": "eae08712-c754-4fb3-f061-cc07a2cccf36"
      },
      "outputs": [
        {
          "output_type": "execute_result",
          "data": {
            "text/plain": [
              "3"
            ]
          },
          "metadata": {},
          "execution_count": 19
        }
      ],
      "source": [
        "np.argmax(pred)"
      ]
    },
    {
      "cell_type": "code",
      "execution_count": null,
      "id": "4b7f3dc0",
      "metadata": {
        "colab": {
          "base_uri": "https://localhost:8080/",
          "height": 265
        },
        "id": "4b7f3dc0",
        "outputId": "49d30780-e4e1-4c89-af31-5691f67a2fa1"
      },
      "outputs": [
        {
          "output_type": "display_data",
          "data": {
            "text/plain": [
              "<Figure size 432x288 with 1 Axes>"
            ],
            "image/png": "[encoded data removed]"
          },
          "metadata": {
            "needs_background": "light"
          }
        }
      ],
      "source": [
        "plt.imshow(x_test[500].reshape(28,28), cmap='gray')\n",
        "plt.show()"
      ]
    }
  ],
  "metadata": {
    "kernelspec": {
      "display_name": "tf",
      "language": "python",
      "name": "tf"
    },
    "language_info": {
      "codemirror_mode": {
        "name": "ipython",
        "version": 3
      },
      "file_extension": ".py",
      "mimetype": "text/x-python",
      "name": "python",
      "nbconvert_exporter": "python",
      "pygments_lexer": "ipython3",
      "version": "3.8.8"
    },
    "colab": {
      "provenance": []
    }
  },
  "nbformat": 4,
  "nbformat_minor": 5
}